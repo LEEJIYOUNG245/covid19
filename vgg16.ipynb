{
  "nbformat": 4,
  "nbformat_minor": 0,
  "metadata": {
    "colab": {
      "name": "vgg16.ipynb",
      "provenance": [],
      "collapsed_sections": [],
      "include_colab_link": true
    },
    "kernelspec": {
      "name": "python3",
      "display_name": "Python 3"
    },
    "language_info": {
      "name": "python"
    },
    "accelerator": "GPU"
  },
  "cells": [
    {
      "cell_type": "markdown",
      "metadata": {
        "id": "view-in-github",
        "colab_type": "text"
      },
      "source": [
        "<a href=\"https://colab.research.google.com/github/LEEJIYOUNG245/covid19/blob/main/vgg16.ipynb\" target=\"_parent\"><img src=\"https://colab.research.google.com/assets/colab-badge.svg\" alt=\"Open In Colab\"/></a>"
      ]
    },
    {
      "cell_type": "code",
      "metadata": {
        "colab": {
          "base_uri": "https://localhost:8080/"
        },
        "id": "RS4UhS-P0tU5",
        "outputId": "3779ab4d-d95f-45b2-c30f-d0411512719f"
      },
      "source": [
        "from google.colab import drive\n",
        "drive.mount('/content/gdrive')"
      ],
      "execution_count": null,
      "outputs": [
        {
          "output_type": "stream",
          "text": [
            "Drive already mounted at /content/gdrive; to attempt to forcibly remount, call drive.mount(\"/content/gdrive\", force_remount=True).\n"
          ],
          "name": "stdout"
        }
      ]
    },
    {
      "cell_type": "code",
      "metadata": {
        "id": "wI8oPA0e2Xle"
      },
      "source": [
        "import torch\n",
        "import torch.nn as nn\n",
        "import torch.optim as optim\n",
        "import torch.nn.functional as F\n",
        "from torchvision import datasets, transforms\n",
        "from torchvision.datasets import ImageFolder\n",
        "from torch.utils.data import Dataset,DataLoader\n",
        "\n",
        "import cv2\n",
        "import math\n",
        "import shutil\n",
        "import random\n",
        "import glob\n",
        "import time, copy\n",
        "import numpy as np\n",
        "\n",
        "from PIL import Image\n",
        "from pathlib import Path\n",
        "from matplotlib import pyplot as plt\n",
        "\n",
        "import os\n",
        "from os import listdir\n",
        "from os.path import isfile, join"
      ],
      "execution_count": null,
      "outputs": []
    },
    {
      "cell_type": "markdown",
      "metadata": {
        "id": "HA2e-edR4GJP"
      },
      "source": [
        "# **파일Path 작업**"
      ]
    },
    {
      "cell_type": "code",
      "metadata": {
        "id": "SjQRG8bliqlj"
      },
      "source": [
        "PATH = \"/content/gdrive/MyDrive/개인/CT_DATA_SPLITTED\"\n",
        "Folder = os.listdir(PATH)\n",
        "\n",
        "train_path = []\n",
        "val_path = []\n",
        "test_path = []\n",
        "li =[train_path, val_path, test_path]\n",
        "\n",
        "for index, folder in enumerate(Folder):\n",
        "  folder_path = os.path.join(PATH,folder)\n",
        "  file_path = os.listdir(folder_path)\n",
        "  file_list = []\n",
        "  for filename in file_path:\n",
        "    file_path = os.path.join(folder_path, filename)\n",
        "    file_list.append(file_path)\n",
        "  li[index] += file_list"
      ],
      "execution_count": null,
      "outputs": []
    },
    {
      "cell_type": "code",
      "metadata": {
        "colab": {
          "base_uri": "https://localhost:8080/"
        },
        "id": "EVkOhT-LjzxO",
        "outputId": "71a50c1f-083f-4c51-f207-815065e4067d"
      },
      "source": [
        "print(len(train_path),len(val_path),len(test_path))"
      ],
      "execution_count": null,
      "outputs": [
        {
          "output_type": "stream",
          "text": [
            "447 148 148\n"
          ],
          "name": "stdout"
        }
      ]
    },
    {
      "cell_type": "markdown",
      "metadata": {
        "id": "JnbDD2IJj4Gd"
      },
      "source": [
        "# **label별 분포도 출력**"
      ]
    },
    {
      "cell_type": "code",
      "metadata": {
        "colab": {
          "base_uri": "https://localhost:8080/",
          "height": 503
        },
        "id": "qmNSgZx5j6qW",
        "outputId": "34a6c22e-9b83-499d-80f9-8c7396e86a15"
      },
      "source": [
        "#label별 count\n",
        "class compare_covid_dataset():\n",
        "    def __init__(self,li):\n",
        "        self.li = li\n",
        "        self.cnt_li = [[0,0],[0,0],[0,0]]\n",
        "\n",
        "        for index, folder in enumerate(li):\n",
        "            for i in folder:\n",
        "                if 'CT_COVID' in i:\n",
        "                    self.cnt_li[index][0]+=1\n",
        "                else:\n",
        "                    self.cnt_li[index][1]+=1\n",
        "\n",
        "        self.train_cat_cnt = self.cnt_li[0][0]            \n",
        "        self.train_dog_cnt = self.cnt_li[0][1]\n",
        "        self.valid_cat_cnt = self.cnt_li[1][0]\n",
        "        self.valid_dog_cnt = self.cnt_li[1][1]\n",
        "        self.test_cat_cnt = self.cnt_li[2][0]\n",
        "        self.test_dog_cnt = self.cnt_li[2][1]\n",
        "    def __call__(self):\n",
        "        #draw plt\n",
        "        label = ['train', 'valid','test']\n",
        "        cat = [self.train_cat_cnt,self.valid_cat_cnt,self.test_cat_cnt]\n",
        "        dog = [self.train_dog_cnt,self.valid_dog_cnt,self.test_dog_cnt]\n",
        "        plt.rcParams[\"font.size\"] = 12\n",
        "        plt.figure(figsize=(12,8))\n",
        "\n",
        "        x = np.arange(len(label))\n",
        "\n",
        "        plt.bar(x-0.15, cat, label='CT_COVID', width=0.3, color='#FF0000')\n",
        "        plt.bar(x+0.15, dog, label='CT_NonCOVID', width=0.3, color='#FFFF00')\n",
        "        plt.legend()\n",
        "        plt.xticks(x, label)\n",
        "        plt.ylabel('Number of data')\n",
        "        plt.title('Compare DATASETS')\n",
        "        plt.show()\n",
        "\n",
        "show =compare_covid_dataset(li)\n",
        "show()"
      ],
      "execution_count": null,
      "outputs": [
        {
          "output_type": "display_data",
          "data": {
            "image/png": "[encoded data removed]",
            "text/plain": [
              "<Figure size 864x576 with 1 Axes>"
            ]
          },
          "metadata": {
            "needs_background": "light"
          }
        }
      ]
    },
    {
      "cell_type": "markdown",
      "metadata": {
        "id": "kzF7n6nUGXPA"
      },
      "source": [
        "# **Aug Compose**"
      ]
    },
    {
      "cell_type": "code",
      "metadata": {
        "id": "mwswzgZkGDOw"
      },
      "source": [
        "train_transform = transforms.Compose([transforms.Resize((224,224)),\n",
        "                                transforms.RandomHorizontalFlip(),\n",
        "                                transforms.ToTensor(),\n",
        "                                transforms.Normalize([0.485, 0.456, 0.406], [0.229, 0.224, 0.225])])\n",
        "test_transform = transforms.Compose([transforms.Resize((224,224)),\n",
        "                                transforms.ToTensor(),\n",
        "                                transforms.Normalize([0.485, 0.456, 0.406], [0.229, 0.224, 0.225])])"
      ],
      "execution_count": null,
      "outputs": []
    },
    {
      "cell_type": "markdown",
      "metadata": {
        "id": "rqTnQ7lPGes5"
      },
      "source": [
        "# **DataSet**"
      ]
    },
    {
      "cell_type": "code",
      "metadata": {
        "id": "SmVnqIw3iAST"
      },
      "source": [
        "class cd_Dataset(Dataset):\n",
        "    def __init__(self ,transform =None, FILE_PATHS= None):\n",
        "        self.transform = transform\n",
        "        self.FILE_PATHS = FILE_PATHS\n",
        "        self.Image_List=[]\n",
        "        self.Label_List=[]\n",
        "\n",
        "        #라벨링\n",
        "        for i in range(len(FILE_PATHS)):\n",
        "            if 'CT_NonCOVID' in FILE_PATHS[i]:\n",
        "                self.Image_List.append(FILE_PATHS[i])\n",
        "                self.Label_List.append(1)\n",
        "            elif 'CT_COVID' in FILE_PATHS[i]:\n",
        "                self.Image_List.append(FILE_PATHS[i])\n",
        "                self.Label_List.append(0)\n",
        "    \n",
        "    def __len__(self):\n",
        "        return len(self.Label_List)\n",
        "\n",
        "    def __getitem__(self, idx):\n",
        "        label = self.Label_List[idx]\n",
        "        img = Image.open(self.Image_List[idx]).convert('RGB')\n",
        "        if self.transform:\n",
        "            img = self.transform(img)\n",
        "        return img, label"
      ],
      "execution_count": null,
      "outputs": []
    },
    {
      "cell_type": "code",
      "metadata": {
        "id": "grmEFHWviB2q"
      },
      "source": [
        "Train = cd_Dataset(transform=train_transform, FILE_PATHS= train_path)\n",
        "Val = cd_Dataset(transform=test_transform, FILE_PATHS= val_path)\n",
        "Test = cd_Dataset(transform=test_transform, FILE_PATHS = test_path)"
      ],
      "execution_count": null,
      "outputs": []
    },
    {
      "cell_type": "code",
      "metadata": {
        "id": "-SATWy3ciFtT"
      },
      "source": [
        "train_data_loader = DataLoader(Train, batch_size = 16, shuffle=True, num_workers=2)\n",
        "test_data_loader = DataLoader(Val, batch_size = 16, shuffle=False, num_workers=2)\n",
        "real_test_data_loader = DataLoader(Test, batch_size = 16, shuffle = False, num_workers = 2)"
      ],
      "execution_count": null,
      "outputs": []
    },
    {
      "cell_type": "markdown",
      "metadata": {
        "id": "yLuBR5crO3xu"
      },
      "source": [
        "# **Model 생성**"
      ]
    },
    {
      "cell_type": "code",
      "metadata": {
        "id": "8MpaalSlOzVA"
      },
      "source": [
        "cfg = {\n",
        "    'VGG11': [64, 'M', 128, 'M', 256, 256, 'M', 512, 512, 'M', 512, 512, 'M'],\n",
        "    'VGG13': [64, 64, 'M', 128, 128, 'M', 256, 256, 'M', 512, 512, 'M', 512, 512, 'M'],\n",
        "    'VGG16': [64, 64, 'M', 128, 128, 'M', 256, 256, 256, 'M', 512, 512, 512, 'M', 512, 512, 512, 'M'],\n",
        "    'VGG19': [64, 64, 'M', 128, 128, 'M', 256, 256, 256, 256, 'M', 512, 512, 512, 512, 'M', 512, 512, 512, 512, 'M'],\n",
        "}"
      ],
      "execution_count": null,
      "outputs": []
    },
    {
      "cell_type": "code",
      "metadata": {
        "colab": {
          "base_uri": "https://localhost:8080/"
        },
        "id": "Yss3Gxl-O6hE",
        "outputId": "b14b8d65-aa6b-419f-d166-b63b4d25c51b"
      },
      "source": [
        "class VGG(nn.Module):\n",
        "    def __init__(self, vgg_name):\n",
        "        super(VGG,self).__init__()\n",
        "        self.vgg_name = vgg_name\n",
        "        self.features = self._make_layers(cfg[vgg_name])\n",
        "        self.classifier = nn.Sequential(\n",
        "            nn.Linear(512 * 7 * 7, 4096),\n",
        "            nn.ReLU(True),\n",
        "            nn.Dropout(),\n",
        "            nn.Linear(4096, 2048),\n",
        "            nn.ReLU(True),\n",
        "            nn.Dropout(),\n",
        "            nn.Linear(2048, 512),\n",
        "            nn.ReLU(True),\n",
        "            nn.Dropout(),\n",
        "            nn.Linear(512, 1)\n",
        "        )\n",
        "    \n",
        "    def forward(self,x):\n",
        "        out = self.features(x)\n",
        "        out = out.view(out.size(0),-1)\n",
        "        out = self.classifier(out)\n",
        "        return F.sigmoid(out)\n",
        "    \n",
        "    def _make_layers(self, cfg):\n",
        "        layers=  []\n",
        "        in_channels = 3\n",
        "        for x in cfg:\n",
        "            if x == 'M':\n",
        "                layers += [nn.MaxPool2d(kernel_size=2, stride=2)]\n",
        "            else :\n",
        "                layers += [nn.Conv2d(in_channels=in_channels, out_channels=x ,kernel_size=(3,3),stride =1, padding=1),\n",
        "                           nn.BatchNorm2d(x),\n",
        "                           nn.ReLU(inplace=True)  # inplace 메모리 감소\n",
        "                           ]\n",
        "                in_channels = x\n",
        "        return nn.Sequential(*layers)\n",
        "\n",
        "\n",
        "\n",
        "def test():\n",
        "    net = VGG('VGG16')\n",
        "    x = torch.randn(16,3,224,224)\n",
        "    y = net(x)\n",
        "    print(y.size())\n",
        "test()\n",
        "model = VGG('VGG16')"
      ],
      "execution_count": null,
      "outputs": [
        {
          "output_type": "stream",
          "text": [
            "/usr/local/lib/python3.7/dist-packages/torch/nn/functional.py:1805: UserWarning: nn.functional.sigmoid is deprecated. Use torch.sigmoid instead.\n",
            "  warnings.warn(\"nn.functional.sigmoid is deprecated. Use torch.sigmoid instead.\")\n"
          ],
          "name": "stderr"
        },
        {
          "output_type": "stream",
          "text": [
            "torch.Size([16, 1])\n"
          ],
          "name": "stdout"
        }
      ]
    },
    {
      "cell_type": "code",
      "metadata": {
        "id": "mpi_7qxAPB6M"
      },
      "source": [
        "criterion = nn.BCELoss()\n",
        "optimizer = optim.SGD(model.parameters(), lr = 0.001, momentum=0.9)"
      ],
      "execution_count": null,
      "outputs": []
    },
    {
      "cell_type": "markdown",
      "metadata": {
        "id": "1k_peEjyPF6R"
      },
      "source": [
        "# **Train & Test**"
      ]
    },
    {
      "cell_type": "code",
      "metadata": {
        "id": "wJ3k0O-4PDzk"
      },
      "source": [
        "class TrainModel():\n",
        "    def __init__(self,model, criterion, optimizer, trainloader, testloader, num_epochs=5):\n",
        "        \n",
        "        self.device = 'cuda' if torch.cuda.is_available() else 'cpu'\n",
        "\n",
        "        self.model = model.to(self.device)\n",
        "        self.trainloader =trainloader\n",
        "        self.testloader = testloader\n",
        "        self.criterion = criterion\n",
        "        self.optimizer = optimizer\n",
        "        self.num_epochs = num_epochs\n",
        "        self.best_acc_wts = copy.deepcopy(self.model.state_dict())\n",
        "        self.best_acc =0.0\n",
        "\n",
        "        \n",
        "        for epoch in range(1, self.num_epochs+1):\n",
        "            print('Epoch {}/{}'.format(epoch, self.num_epochs))\n",
        "            self.train()\n",
        "            self.test()\n",
        "\n",
        "        model.load_state_dict(self.best_acc_wts)\n",
        "    def train(self):\n",
        "        self.model.train()\n",
        "        train_loss = 0\n",
        "        correct = 0\n",
        "        total = 0\n",
        "        for batch_idx, (inputs, targets) in enumerate(self.trainloader):\n",
        "            inputs = inputs.to(self.device)\n",
        "            targets = targets.unsqueeze(1).to(self.device)\n",
        "            self.optimizer.zero_grad()\n",
        "            outputs = self.model(inputs)\n",
        "            loss = self.criterion(outputs, targets.float())\n",
        "            loss.backward()\n",
        "            self.optimizer.step()\n",
        "\n",
        "            for i in range(0,len(outputs)):\n",
        "                if outputs[i][0].data.cpu().numpy()> 0.5:\n",
        "                    outputs[i][0] =1\n",
        "                else:\n",
        "                    outputs[i][0] =0            \n",
        "\n",
        "            train_loss += loss.data.cpu().numpy()\n",
        "            total += targets.size(0)\n",
        "            correct += outputs.eq(targets).sum().item()\n",
        "\n",
        "        epoch_loss = train_loss /len(self.trainloader)\n",
        "        epoch_acc = correct / total\n",
        "        print('train | Loss: {:.4f} Acc: {:.4f}'.format( epoch_loss, epoch_acc))\n",
        "\n",
        "    def test(self):\n",
        "        self.model.eval()\n",
        "        test_loss = 0\n",
        "        correct = 0\n",
        "        total = 0\n",
        "        with torch.no_grad():\n",
        "            for batch_idx, (inputs, targets) in enumerate(self.testloader):\n",
        "                inputs = inputs.to(self.device)\n",
        "                targets = targets.unsqueeze(1).to(self.device)\n",
        "                outputs = self.model(inputs)\n",
        "                loss = self.criterion(outputs, targets.float())\n",
        "\n",
        "                for i in range(0,len(outputs)):\n",
        "                    if outputs[i][0].data.cpu().numpy()> 0.5:\n",
        "                        outputs[i][0] =1\n",
        "                    else:\n",
        "                        outputs[i][0] =0            \n",
        "\n",
        "                test_loss += loss.data.cpu().numpy()\n",
        "                total += targets.size(0)\n",
        "                correct += outputs.eq(targets).sum().item()\n",
        "\n",
        "            epoch_loss = test_loss /len(self.testloader)\n",
        "            epoch_acc = correct / total\n",
        "            print('test | Loss: {:.4f} Acc: {:.4f}'.format( epoch_loss, epoch_acc))\n",
        "            if epoch_acc >= self.best_acc:\n",
        "                self.best_acc = epoch_acc\n",
        "                self.best_acc_wts = copy.deepcopy(self.model.state_dict())"
      ],
      "execution_count": null,
      "outputs": []
    },
    {
      "cell_type": "code",
      "metadata": {
        "colab": {
          "base_uri": "https://localhost:8080/"
        },
        "id": "HU2BKOuWPM06",
        "outputId": "25e0c738-b690-4072-8a0b-98de137234f7"
      },
      "source": [
        "TrainModel(model, criterion=criterion, optimizer=optimizer,trainloader=train_data_loader,testloader=test_data_loader,num_epochs=10)"
      ],
      "execution_count": null,
      "outputs": [
        {
          "output_type": "stream",
          "text": [
            "Epoch 1/10\n"
          ],
          "name": "stdout"
        },
        {
          "output_type": "stream",
          "text": [
            "/usr/local/lib/python3.7/dist-packages/torch/nn/functional.py:1805: UserWarning: nn.functional.sigmoid is deprecated. Use torch.sigmoid instead.\n",
            "  warnings.warn(\"nn.functional.sigmoid is deprecated. Use torch.sigmoid instead.\")\n"
          ],
          "name": "stderr"
        },
        {
          "output_type": "stream",
          "text": [
            "train | Loss: 0.6953 Acc: 0.4899\n",
            "test | Loss: 0.6889 Acc: 0.5338\n",
            "Epoch 2/10\n",
            "train | Loss: 0.6855 Acc: 0.5213\n",
            "test | Loss: 0.6845 Acc: 0.5338\n",
            "Epoch 3/10\n",
            "train | Loss: 0.6702 Acc: 0.5615\n",
            "test | Loss: 0.6891 Acc: 0.5743\n",
            "Epoch 4/10\n",
            "train | Loss: 0.6430 Acc: 0.6532\n",
            "test | Loss: 0.6713 Acc: 0.6014\n",
            "Epoch 5/10\n",
            "train | Loss: 0.5802 Acc: 0.7136\n",
            "test | Loss: 0.6228 Acc: 0.6419\n",
            "Epoch 6/10\n",
            "train | Loss: 0.5334 Acc: 0.7315\n",
            "test | Loss: 0.9163 Acc: 0.6689\n",
            "Epoch 7/10\n",
            "train | Loss: 0.5213 Acc: 0.7606\n",
            "test | Loss: 0.7059 Acc: 0.6554\n",
            "Epoch 8/10\n",
            "train | Loss: 0.4543 Acc: 0.7942\n",
            "test | Loss: 0.6983 Acc: 0.6419\n",
            "Epoch 9/10\n",
            "train | Loss: 0.4215 Acc: 0.8031\n",
            "test | Loss: 0.5692 Acc: 0.6959\n",
            "Epoch 10/10\n",
            "train | Loss: 0.4213 Acc: 0.8300\n",
            "test | Loss: 0.6288 Acc: 0.7230\n"
          ],
          "name": "stdout"
        },
        {
          "output_type": "execute_result",
          "data": {
            "text/plain": [
              "<__main__.TrainModel at 0x7f5c04a9ded0>"
            ]
          },
          "metadata": {},
          "execution_count": 51
        }
      ]
    },
    {
      "cell_type": "code",
      "metadata": {
        "id": "jHuiSyBIamD9"
      },
      "source": [
        "def test(model,testloader,criterion):\n",
        "        model.eval()\n",
        "        test_loss = 0\n",
        "        correct = 0\n",
        "        total = 0\n",
        "        device = 'cuda' if torch.cuda.is_available() else 'cpu'\n",
        "        with torch.no_grad():\n",
        "            for batch_idx, (inputs, targets) in enumerate(testloader):\n",
        "                inputs = inputs.to(device)\n",
        "                targets = targets.unsqueeze(1).to(device)\n",
        "                outputs = model(inputs)\n",
        "                loss = criterion(outputs, targets.float())\n",
        "\n",
        "                for i in range(0,len(outputs)):\n",
        "                    if outputs[i][0].data.cpu().numpy()> 0.5:\n",
        "                        outputs[i][0] =1\n",
        "                    else:\n",
        "                        outputs[i][0] =0            \n",
        "\n",
        "                test_loss += loss.data.cpu().numpy()\n",
        "                total += targets.size(0)\n",
        "                correct += outputs.eq(targets).sum().item()\n",
        "                \n",
        "            epoch_loss = test_loss /len(testloader)\n",
        "            epoch_acc = correct / total\n",
        "            print('test | Loss: {:.4f} Acc: {:.4f}'.format( epoch_loss, epoch_acc))\n",
        "\n",
        "class FeatureExtractor_vgg():\n",
        "    \"\"\" Class for extracting activations and\n",
        "    registering gradients from targetted intermediate layers \"\"\"\n",
        "\n",
        "    def __init__(self, model, target_layers): # target_layers = 35 ==> VGG19에서 가장 마지막 MaxPool2D전 ReLU함수\n",
        "        self.model = model\n",
        "        self.target_layers = target_layers\n",
        "        self.gradients = []\n",
        "\n",
        "    def save_gradient(self, grad):\n",
        "        self.gradients.append(grad)\n",
        "\n",
        "\n",
        "    def __call__(self, x):\n",
        "        self.gradients = []\n",
        "        for name, module in self.model._modules.items(): # 모든 layer에 대해서 직접 접근\n",
        "            x = module(x)\n",
        "            if name in self.target_layers: # target_layer라면 해당 layer에서의 gradient를 저장\n",
        "                x.register_hook(self.save_gradient) #\n",
        "                target_feature_maps = x # x's shape = 512X14X14(C,W,H) feature map\n",
        "        return target_feature_maps, x\n",
        "\n",
        "\n",
        "class ModelOutputs_vgg():\n",
        "    \"\"\" Class for making a forward pass, and getting:\n",
        "    1. The network output.\n",
        "    2. Activations from intermeddiate targetted layers.\n",
        "    3. Gradients from intermeddiate targetted layers. \"\"\"\n",
        "\n",
        "    def __init__(self, model, target_layers):\n",
        "        self.model = model\n",
        "        self.feature_extractor = FeatureExtractor_vgg(self.model.features, target_layers)\n",
        "\n",
        "    def get_gradients(self):\n",
        "        return self.feature_extractor.gradients\n",
        "\n",
        "    def __call__(self, x):\n",
        "        target_activations, output = self.feature_extractor(x)\n",
        "        output = output.view(output.size(0), -1)\n",
        "        output = self.model.classifier(output) # feature extract를 통해서 나온 값을 활용하여 classification 진행\n",
        "        #print(\"ModelOutputs().output.shape : \",output[0])\n",
        "        #print(\"ModelOutputs().target_activations.shape :\",target_activations[0])\n",
        "        return target_activations, output\n",
        "\n",
        "class GradCam_vgg:\n",
        "    def __init__(self, model, target_layer_names, use_cuda):\n",
        "        self.model = model\n",
        "        self.model.eval()\n",
        "        self.cuda = use_cuda\n",
        "        if self.cuda: # GPU일 경우 model을 cuda로 설정\n",
        "            self.model = model.cuda()\n",
        "\n",
        "        self.extractor = ModelOutputs_vgg(self.model, target_layer_names)\n",
        "\n",
        "    def forward(self, input):\n",
        "        return self.model(input)\n",
        "\n",
        "    def __call__(self, input, index=None):\n",
        "        if self.cuda: # GPU일 경우 input을 cuda로 변환하여 전달\n",
        "            features, output = self.extractor(input.cuda())\n",
        "        else:\n",
        "            features, output = self.extractor(input)\n",
        "        #print(\"features : \",features.cpu().data.numpy().shape) # 해당 위치에서 추출된 feature map ( 512,14,14 ) (ChannelX14X14)\n",
        "        #print(\"output : \",output.cpu().data.numpy().shape) # class를 의미함\n",
        "        probs, idx = 0,0\n",
        "        #print(\"index : \", index)\n",
        "        if index == None:\n",
        "            index = np.argmax(output.cpu().data.numpy())  # index = 정답이라고 추측한 class index\n",
        "            h_x = F.softmax(output,dim=1).data.squeeze()\n",
        "            probs, idx = h_x.sort(0,True)\n",
        "        #print(\"index : \", index)\n",
        "        one_hot = np.zeros((1, output.size()[-1]), dtype=np.float32)\n",
        "        one_hot[0][index] = 1 # 정답이라고 생각하는 class의 index 리스트 위치의 값만 1로\n",
        "        one_hot = torch.from_numpy(one_hot).requires_grad_(True) # numpy배열을 tensor로 변환\n",
        "        # requires_grad == True 텐서의 모든 연산에 대하여 추적\n",
        "        if self.cuda:\n",
        "            one_hot = torch.sum(one_hot.cuda() * output)\n",
        "        else:\n",
        "            one_hot = torch.sum(one_hot * output)\n",
        "\n",
        "        self.model.features.zero_grad()\n",
        "        self.model.classifier.zero_grad()\n",
        "        one_hot.backward(retain_graph=True)\n",
        "\n",
        "        grads_val = self.extractor.get_gradients()[-1].cpu().data.numpy()\n",
        "        #print(\"grads_val : \",grads_val.shape) # 512 X 14 X 14\n",
        "        target = features  # A^k\n",
        "        target = target.cpu().data.numpy()[0, :]\n",
        "\n",
        "        cam = None\n",
        "\n",
        "        weights = np.mean(grads_val, axis=(2, 3))[0, :]  # 논문에서의 global average pooling 식에 해당하는 부분\n",
        "        grad_cam = np.zeros(target.shape[1:], dtype=np.float32)  # 14X14\n",
        "\n",
        "        for i, w in enumerate(weights):  # calcul grad_cam\n",
        "            grad_cam += w * target[i, :, :]  # linear combination L^c_{Grad-CAM}에 해당하는 식에서 ReLU를 제외한 식\n",
        "\n",
        "        grad_cam = np.maximum(grad_cam, 0)  # 0보다 작은 값을 제거\n",
        "        grad_cam = cv2.resize(grad_cam, (224, 224))  # 224X224크기로 변환\n",
        "        grad_cam = grad_cam - np.min(grad_cam)  #\n",
        "        grad_cam = grad_cam / np.max(grad_cam)  # 위의 것과 해당 줄의 것은 0~1사이의 값으로 정규화하기 위한 정리\n",
        "        return grad_cam, cam, index, probs, idx"
      ],
      "execution_count": null,
      "outputs": []
    },
    {
      "cell_type": "code",
      "metadata": {
        "colab": {
          "base_uri": "https://localhost:8080/"
        },
        "id": "OGmk2ID0angV",
        "outputId": "a49f6a35-79ae-43b7-c697-c7fe4bfc72e9"
      },
      "source": [
        "test(model,test_data_loader,criterion)\n",
        "GradCam_vgg(model, target_layer_names = 8, use_cuda = True)"
      ],
      "execution_count": null,
      "outputs": [
        {
          "output_type": "stream",
          "text": [
            "/usr/local/lib/python3.7/dist-packages/torch/nn/functional.py:1805: UserWarning: nn.functional.sigmoid is deprecated. Use torch.sigmoid instead.\n",
            "  warnings.warn(\"nn.functional.sigmoid is deprecated. Use torch.sigmoid instead.\")\n"
          ],
          "name": "stderr"
        },
        {
          "output_type": "stream",
          "text": [
            "test | Loss: 0.6288 Acc: 0.7230\n"
          ],
          "name": "stdout"
        },
        {
          "output_type": "execute_result",
          "data": {
            "text/plain": [
              "<__main__.GradCam_vgg at 0x7f5be25161d0>"
            ]
          },
          "metadata": {},
          "execution_count": 53
        }
      ]
    }
  ]
}